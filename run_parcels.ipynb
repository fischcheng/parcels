{
 "cells": [
  {
   "cell_type": "code",
   "execution_count": 1,
   "metadata": {
    "collapsed": true
   },
   "outputs": [],
   "source": [
    "from parcels import Grid, ParticleSet, Variable, JITParticle, AdvectionRK4\n",
    "from scripts import plotTrajectoriesFile\n",
    "import numpy as np\n",
    "import math\n",
    "from datetime import timedelta\n",
    "from operator import attrgetter"
   ]
  },
  {
   "cell_type": "code",
   "execution_count": 2,
   "metadata": {
    "collapsed": false
   },
   "outputs": [
    {
     "ename": "RuntimeError",
     "evalue": "Index for lon needs to be a list",
     "output_type": "error",
     "traceback": [
      "\u001b[0;31m--------------------------------------------------------------------\u001b[0m",
      "\u001b[0;31mRuntimeError\u001b[0m                       Traceback (most recent call last)",
      "\u001b[0;32m<ipython-input-2-d610d5a640ec>\u001b[0m in \u001b[0;36m<module>\u001b[0;34m()\u001b[0m\n\u001b[1;32m      1\u001b[0m \u001b[0;31m# Call an example grid filed of Nemo_format\u001b[0m\u001b[0;34m\u001b[0m\u001b[0;34m\u001b[0m\u001b[0m\n\u001b[0;32m----> 2\u001b[0;31m \u001b[0mgrid\u001b[0m \u001b[0;34m=\u001b[0m \u001b[0mGrid\u001b[0m\u001b[0;34m.\u001b[0m\u001b[0mfrom_nemo\u001b[0m\u001b[0;34m(\u001b[0m\u001b[0;34m\"examples/MovingEddies_data/moving_eddies\"\u001b[0m\u001b[0;34m)\u001b[0m\u001b[0;34m\u001b[0m\u001b[0m\n\u001b[0m",
      "\u001b[0;32m/Users/yucheng/Desktop/parcels/parcels/grid.py\u001b[0m in \u001b[0;36mfrom_nemo\u001b[0;34m(cls, basename, uvar, vvar, indices, extra_vars, allow_time_extrapolation, **kwargs)\u001b[0m\n\u001b[1;32m    148\u001b[0m         return cls.from_netcdf(filenames, indices=indices, variables=extra_vars,\n\u001b[1;32m    149\u001b[0m                                \u001b[0mdimensions\u001b[0m\u001b[0;34m=\u001b[0m\u001b[0mdimensions\u001b[0m\u001b[0;34m,\u001b[0m \u001b[0mallow_time_extrapolation\u001b[0m\u001b[0;34m=\u001b[0m\u001b[0mallow_time_extrapolation\u001b[0m\u001b[0;34m,\u001b[0m\u001b[0;34m\u001b[0m\u001b[0m\n\u001b[0;32m--> 150\u001b[0;31m                                **kwargs)\n\u001b[0m\u001b[1;32m    151\u001b[0m \u001b[0;34m\u001b[0m\u001b[0m\n\u001b[1;32m    152\u001b[0m     \u001b[0;34m@\u001b[0m\u001b[0mproperty\u001b[0m\u001b[0;34m\u001b[0m\u001b[0m\n",
      "\u001b[0;32m/Users/yucheng/Desktop/parcels/parcels/grid.py\u001b[0m in \u001b[0;36mfrom_netcdf\u001b[0;34m(cls, filenames, variables, dimensions, indices, mesh, allow_time_extrapolation, **kwargs)\u001b[0m\n\u001b[1;32m    123\u001b[0m             \u001b[0mdimensions\u001b[0m\u001b[0;34m[\u001b[0m\u001b[0;34m'data'\u001b[0m\u001b[0;34m]\u001b[0m \u001b[0;34m=\u001b[0m \u001b[0mname\u001b[0m\u001b[0;34m\u001b[0m\u001b[0m\n\u001b[1;32m    124\u001b[0m             fields[var] = Field.from_netcdf(var, dimensions, paths, indices, units=units[var],\n\u001b[0;32m--> 125\u001b[0;31m                                             allow_time_extrapolation=allow_time_extrapolation, **kwargs)\n\u001b[0m\u001b[1;32m    126\u001b[0m         \u001b[0mu\u001b[0m \u001b[0;34m=\u001b[0m \u001b[0mfields\u001b[0m\u001b[0;34m.\u001b[0m\u001b[0mpop\u001b[0m\u001b[0;34m(\u001b[0m\u001b[0;34m'U'\u001b[0m\u001b[0;34m)\u001b[0m\u001b[0;34m\u001b[0m\u001b[0m\n\u001b[1;32m    127\u001b[0m         \u001b[0mv\u001b[0m \u001b[0;34m=\u001b[0m \u001b[0mfields\u001b[0m\u001b[0;34m.\u001b[0m\u001b[0mpop\u001b[0m\u001b[0;34m(\u001b[0m\u001b[0;34m'V'\u001b[0m\u001b[0;34m)\u001b[0m\u001b[0;34m\u001b[0m\u001b[0m\n",
      "\u001b[0;32m/Users/yucheng/Desktop/parcels/parcels/field.py\u001b[0m in \u001b[0;36mfrom_netcdf\u001b[0;34m(cls, name, dimensions, filenames, indices, allow_time_extrapolation, **kwargs)\u001b[0m\n\u001b[1;32m    212\u001b[0m             \u001b[0mfilenames\u001b[0m \u001b[0;34m=\u001b[0m \u001b[0;34m[\u001b[0m\u001b[0mfilenames\u001b[0m\u001b[0;34m]\u001b[0m\u001b[0;34m\u001b[0m\u001b[0m\n\u001b[1;32m    213\u001b[0m         \u001b[0;32mwith\u001b[0m \u001b[0mFileBuffer\u001b[0m\u001b[0;34m(\u001b[0m\u001b[0mfilenames\u001b[0m\u001b[0;34m[\u001b[0m\u001b[0;36m0\u001b[0m\u001b[0;34m]\u001b[0m\u001b[0;34m,\u001b[0m \u001b[0mdimensions\u001b[0m\u001b[0;34m)\u001b[0m \u001b[0;32mas\u001b[0m \u001b[0mfilebuffer\u001b[0m\u001b[0;34m:\u001b[0m\u001b[0;34m\u001b[0m\u001b[0m\n\u001b[0;32m--> 214\u001b[0;31m             \u001b[0mlon\u001b[0m\u001b[0;34m,\u001b[0m \u001b[0mindslon\u001b[0m \u001b[0;34m=\u001b[0m \u001b[0mfilebuffer\u001b[0m\u001b[0;34m.\u001b[0m\u001b[0mread_dimension\u001b[0m\u001b[0;34m(\u001b[0m\u001b[0;34m'lon'\u001b[0m\u001b[0;34m,\u001b[0m \u001b[0mindices\u001b[0m\u001b[0;34m)\u001b[0m\u001b[0;34m\u001b[0m\u001b[0m\n\u001b[0m\u001b[1;32m    215\u001b[0m             \u001b[0mlat\u001b[0m\u001b[0;34m,\u001b[0m \u001b[0mindslat\u001b[0m \u001b[0;34m=\u001b[0m \u001b[0mfilebuffer\u001b[0m\u001b[0;34m.\u001b[0m\u001b[0mread_dimension\u001b[0m\u001b[0;34m(\u001b[0m\u001b[0;34m'lat'\u001b[0m\u001b[0;34m,\u001b[0m \u001b[0mindices\u001b[0m\u001b[0;34m)\u001b[0m\u001b[0;34m\u001b[0m\u001b[0m\n\u001b[1;32m    216\u001b[0m             \u001b[0;31m# Assign time_units if the time dimension has units and calendar\u001b[0m\u001b[0;34m\u001b[0m\u001b[0;34m\u001b[0m\u001b[0m\n",
      "\u001b[0;32m/Users/yucheng/Desktop/parcels/parcels/field.py\u001b[0m in \u001b[0;36mread_dimension\u001b[0;34m(self, dimname, indices)\u001b[0m\n\u001b[1;32m    509\u001b[0m         \u001b[0minds\u001b[0m \u001b[0;34m=\u001b[0m \u001b[0mindices\u001b[0m\u001b[0;34m[\u001b[0m\u001b[0mdimname\u001b[0m\u001b[0;34m]\u001b[0m \u001b[0;32mif\u001b[0m \u001b[0mdimname\u001b[0m \u001b[0;32min\u001b[0m \u001b[0mindices\u001b[0m \u001b[0;32melse\u001b[0m \u001b[0mrange\u001b[0m\u001b[0;34m(\u001b[0m\u001b[0mdim\u001b[0m\u001b[0;34m.\u001b[0m\u001b[0msize\u001b[0m\u001b[0;34m)\u001b[0m\u001b[0;34m\u001b[0m\u001b[0m\n\u001b[1;32m    510\u001b[0m         \u001b[0;32mif\u001b[0m \u001b[0;32mnot\u001b[0m \u001b[0misinstance\u001b[0m\u001b[0;34m(\u001b[0m\u001b[0minds\u001b[0m\u001b[0;34m,\u001b[0m \u001b[0mlist\u001b[0m\u001b[0;34m)\u001b[0m\u001b[0;34m:\u001b[0m\u001b[0;34m\u001b[0m\u001b[0m\n\u001b[0;32m--> 511\u001b[0;31m             \u001b[0;32mraise\u001b[0m \u001b[0mRuntimeError\u001b[0m\u001b[0;34m(\u001b[0m\u001b[0;34m'Index for '\u001b[0m\u001b[0;34m+\u001b[0m\u001b[0mdimname\u001b[0m\u001b[0;34m+\u001b[0m\u001b[0;34m' needs to be a list'\u001b[0m\u001b[0;34m)\u001b[0m\u001b[0;34m\u001b[0m\u001b[0m\n\u001b[0m\u001b[1;32m    512\u001b[0m         \u001b[0;32mreturn\u001b[0m \u001b[0mdim\u001b[0m\u001b[0;34m[\u001b[0m\u001b[0minds\u001b[0m\u001b[0;34m]\u001b[0m\u001b[0;34m,\u001b[0m \u001b[0minds\u001b[0m\u001b[0;34m\u001b[0m\u001b[0m\n\u001b[1;32m    513\u001b[0m \u001b[0;34m\u001b[0m\u001b[0m\n",
      "\u001b[0;31mRuntimeError\u001b[0m: Index for lon needs to be a list"
     ]
    }
   ],
   "source": [
    "# Call an example grid filed of Nemo_format\n",
    "grid = Grid.from_nemo(\"examples/MovingEddies_data/moving_eddies\")"
   ]
  },
  {
   "cell_type": "code",
   "execution_count": 7,
   "metadata": {
    "collapsed": false
   },
   "outputs": [
    {
     "name": "stdout",
     "output_type": "stream",
     "text": [
      "Help on class Grid in module parcels.grid:\n",
      "\n",
      "class Grid(builtins.object)\n",
      " |  Grid class that holds hydrodynamic data needed to execute particles\n",
      " |  \n",
      " |  :param U: :class:`parcels.field.Field` object for zonal velocity component\n",
      " |  :param V: :class:`parcels.field.Field` object for meridional velocity component\n",
      " |  :param allow_time_extrapolation: boolean whether to allow for extrapolation\n",
      " |  :param fields: Dictionary of additional :class:`parcels.field.Field` objects\n",
      " |  \n",
      " |  Methods defined here:\n",
      " |  \n",
      " |  __init__(self, U, V, allow_time_extrapolation=False, fields={})\n",
      " |  \n",
      " |  add_constant(self, name, value)\n",
      " |      Add a constant to the grid. Note that all constants are\n",
      " |      stored as 32-bit floats. While constants can be updated during\n",
      " |      execution in SciPy mode, they can not be updated in JIT mode.\n",
      " |      \n",
      " |      :param name: Name of the constant\n",
      " |      :param value: Value of the constant (stored as 32-bit float)\n",
      " |  \n",
      " |  add_field(self, field)\n",
      " |      Add a :class:`parcels.field.Field` object to the grid\n",
      " |      \n",
      " |      :param field: :class:`parcels.field.Field` object to be added\n",
      " |  \n",
      " |  add_periodic_halo(self, zonal=False, meridional=False, halosize=5)\n",
      " |      Add a 'halo' to all :class:`parcels.field.Field` objects on a grid,\n",
      " |      through extending the Field (and lon/lat) by copying a small portion\n",
      " |      of the field on one side of the domain to the other.\n",
      " |      \n",
      " |      :param zonal: Create a halo in zonal direction (boolean)\n",
      " |      :param meridional: Create a halo in meridional direction (boolean)\n",
      " |      :param halosize: size of the halo (in grid points). Default is 5 grid points\n",
      " |  \n",
      " |  eval(self, x, y)\n",
      " |      Evaluate the zonal and meridional velocities (u,v) at a point (x,y)\n",
      " |      \n",
      " |      :param x: zonal point to evaluate\n",
      " |      :param y: meridional point to evaluate\n",
      " |      \n",
      " |      :return u, v: zonal and meridional velocities at point\n",
      " |  \n",
      " |  write(self, filename)\n",
      " |      Write grid to NetCDF file using NEMO convention\n",
      " |      \n",
      " |      :param filename: Basename of the output fileset\n",
      " |  \n",
      " |  ----------------------------------------------------------------------\n",
      " |  Class methods defined here:\n",
      " |  \n",
      " |  from_data(data_u, lon_u, lat_u, data_v, lon_v, lat_v, depth=None, time=None, field_data={}, transpose=True, mesh='spherical', allow_time_extrapolation=True, **kwargs) from builtins.type\n",
      " |      Initialise Grid object from raw data\n",
      " |      \n",
      " |      :param data_u: Zonal (U) velocity data\n",
      " |      :param lon_u: Longitude coordinates of the U data\n",
      " |      :param lat_u: Latitude coordinates of the U data\n",
      " |      :param data_v: Meridional (V) velocity data\n",
      " |      :param lon_v: Longitude coordinates of the V data\n",
      " |      :param lat_v: Latitude coordinates of the V data\n",
      " |      :param depth: Depth coordinates of all :class:`Field` objects on the grid\n",
      " |      :param time: Time coordinates of all :class:`Field` objects on the grid\n",
      " |      :param field_data: Dictionary of extra fields (name, data)\n",
      " |      :param transpose: Boolean whether to transpose data on read-in\n",
      " |      :param mesh: String indicating the type of mesh coordinates and\n",
      " |             units used during velocity interpolation:\n",
      " |      \n",
      " |             1. spherical (default): Lat and lon in degree, with a\n",
      " |                correction for zonal velocity U near the poles.\n",
      " |             2. flat: No conversion, lat/lon are assumed to be in m.\n",
      " |      :param allow_time_extrapolation: boolean whether to allow for extrapolation\n",
      " |  \n",
      " |  from_nemo(basename, uvar='vozocrtx', vvar='vomecrty', indices={}, extra_vars={'V': 'vomecrty', 'U': 'vozocrtx'}, allow_time_extrapolation=False, **kwargs) from builtins.type\n",
      " |      Initialises grid data from files using NEMO conventions.\n",
      " |      \n",
      " |      :param basename: Base name of the file(s); may contain\n",
      " |             wildcards to indicate multiple files.\n",
      " |      :param extra_vars: Extra fields to read beyond U and V\n",
      " |      :param indices: Optional dictionary of indices for each dimension\n",
      " |             to read from file(s), to allow for reading of subset of data.\n",
      " |             Default is to read the full extent of each dimension.\n",
      " |  \n",
      " |  from_netcdf(filenames, variables, dimensions, indices={}, mesh='spherical', allow_time_extrapolation=False, **kwargs) from builtins.type\n",
      " |      Initialises grid data from files using NEMO conventions.\n",
      " |      \n",
      " |      :param filenames: Dictionary mapping variables to file(s). The\n",
      " |             filepath may contain wildcards to indicate multiple files.\n",
      " |      :param variables: Dictionary mapping variables to variable\n",
      " |             names in the netCDF file(s).\n",
      " |      :param dimensions: Dictionary mapping data dimensions (lon,\n",
      " |             lat, depth, time, data) to dimensions in the netCF file(s).\n",
      " |      :param indices: Optional dictionary of indices for each dimension\n",
      " |             to read from file(s), to allow for reading of subset of data.\n",
      " |             Default is to read the full extent of each dimension.\n",
      " |      :param mesh: String indicating the type of mesh coordinates and\n",
      " |             units used during velocity interpolation:\n",
      " |      \n",
      " |             1. spherical (default): Lat and lon in degree, with a\n",
      " |                correction for zonal velocity U near the poles.\n",
      " |             2. flat: No conversion, lat/lon are assumed to be in m.\n",
      " |      :param allow_time_extrapolation: boolean whether to allow for extrapolation\n",
      " |  \n",
      " |  ----------------------------------------------------------------------\n",
      " |  Data descriptors defined here:\n",
      " |  \n",
      " |  __dict__\n",
      " |      dictionary for instance variables (if defined)\n",
      " |  \n",
      " |  __weakref__\n",
      " |      list of weak references to the object (if defined)\n",
      " |  \n",
      " |  fields\n",
      " |      Returns a list of all the :class:`parcels.field.Field` objects\n",
      " |      associated with this grid\n",
      "\n"
     ]
    }
   ],
   "source": [
    "help(Grid)"
   ]
  }
 ],
 "metadata": {
  "kernelspec": {
   "display_name": "Python 3",
   "language": "python",
   "name": "python3"
  },
  "language_info": {
   "codemirror_mode": {
    "name": "ipython",
    "version": 3
   },
   "file_extension": ".py",
   "mimetype": "text/x-python",
   "name": "python",
   "nbconvert_exporter": "python",
   "pygments_lexer": "ipython3",
   "version": "3.4.5"
  }
 },
 "nbformat": 4,
 "nbformat_minor": 0
}
